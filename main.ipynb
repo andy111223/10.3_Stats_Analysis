{
 "cells": [
  {
   "cell_type": "markdown",
   "metadata": {},
   "source": []
  },
  {
   "cell_type": "code",
   "execution_count": 1,
   "metadata": {},
   "outputs": [],
   "source": [
    "# manipulacja danymi\n",
    "import numpy as np\n",
    "import pandas as pd\n",
    "\n",
    "# wizualizacja danych\n",
    "import matplotlib.pyplot as plt\n",
    "import seaborn as sns\n",
    "\n",
    "# statystyczna analiza danych\n",
    "from scipy import stats\n",
    "\n",
    "# przygotowanie danych\n",
    "from sklearn.preprocessing import StandardScaler, MinMaxScaler"
   ]
  },
  {
   "cell_type": "code",
   "execution_count": 3,
   "metadata": {},
   "outputs": [
    {
     "data": {
      "text/plain": [
       "array([1.24535003, 2.88564944, 3.2693619 , 4.09839091, 2.91319103,\n",
       "       2.65040379, 1.77641627, 4.08833872, 3.98882045, 2.31691016,\n",
       "       1.9322742 , 3.28886235, 2.01574224, 2.28608586, 2.83644204,\n",
       "       3.26965503, 1.69918972, 5.14425395, 5.06331569, 2.2809034 ,\n",
       "       2.30446523, 4.31021848, 2.26722775, 2.71231524, 4.18671656,\n",
       "       3.0212363 , 2.3122316 , 3.46119014, 2.24724971, 2.93065059,\n",
       "       3.41904529, 2.20721794, 2.52400079, 3.88397917, 2.64779023,\n",
       "       3.39348992, 2.35842941, 2.0402679 , 3.41734317, 4.22328522,\n",
       "       3.29339298, 3.77247703, 1.23128871, 3.33587366, 3.01934982,\n",
       "       3.88139895, 2.27125558, 2.04298189, 4.62058707, 2.98464883,\n",
       "       1.72675891, 2.82720505, 1.68406451, 3.81941511, 2.65301113,\n",
       "       2.86756405, 3.17525747, 4.83965567, 2.6306331 , 3.35637919,\n",
       "       3.38229173, 3.55043836, 2.00174445, 3.50094407, 3.61205902,\n",
       "       1.81620516, 3.63018197, 1.70914304, 3.49738365, 3.66869881,\n",
       "       2.36249362, 2.36481222, 2.02191237, 4.6895925 , 3.48060794,\n",
       "       3.55468399, 3.27201813, 1.81991739, 3.38403995, 3.39246351,\n",
       "       3.16951033, 3.70970358, 2.43130409, 3.24521339, 1.8171906 ,\n",
       "       3.14366818, 4.5821685 , 3.24883987, 1.74839694, 3.46324252,\n",
       "       2.10157238, 3.01908208, 1.74513173, 2.13258889, 1.63955238,\n",
       "       4.139997  , 2.18949845, 4.85051623, 1.98096322, 5.10497072])"
      ]
     },
     "execution_count": 3,
     "metadata": {},
     "output_type": "execute_result"
    }
   ],
   "source": [
    "dataset_1 = stats.norm.rvs(loc=3,size=100)\n",
    "dataset_1"
   ]
  },
  {
   "cell_type": "markdown",
   "metadata": {},
   "source": []
  }
 ],
 "metadata": {
  "kernelspec": {
   "display_name": "new_env",
   "language": "python",
   "name": "python3"
  },
  "language_info": {
   "codemirror_mode": {
    "name": "ipython",
    "version": 3
   },
   "file_extension": ".py",
   "mimetype": "text/x-python",
   "name": "python",
   "nbconvert_exporter": "python",
   "pygments_lexer": "ipython3",
   "version": "3.12.3"
  }
 },
 "nbformat": 4,
 "nbformat_minor": 2
}
